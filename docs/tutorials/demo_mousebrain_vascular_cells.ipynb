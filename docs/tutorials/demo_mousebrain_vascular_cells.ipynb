{
    "cells": [
        {
            "cell_type": "markdown",
            "metadata": {},
            "source": [
                "# Setup\n",
                "\n",
                "Download the CELLEX repository and data."
            ]
        },
        {
            "cell_type": "code",
            "execution_count": 1,
            "metadata": {},
            "outputs": [],
            "source": [
                "# Install CELLEX to your env\n",
                "# !pip install cellex"
            ]
        },
        {
            "cell_type": "code",
            "execution_count": 2,
            "metadata": {},
            "outputs": [],
            "source": [
                "# macOS\n",
                "# !curl -O https://storage.googleapis.com/linnarsson-lab-loom/l6_r1_vascular_cells.loom\n",
                "\n",
                "# Linux\n",
                "# !wget https://storage.googleapis.com/linnarsson-lab-loom/l6_r1_vascular_cells.loom"
            ]
        },
        {
            "cell_type": "markdown",
            "metadata": {},
            "source": [
                "# Import packages\n",
                "N.B. If you are missing any dependencies in your environment, your imports will fail until all dependencies are installed."
            ]
        },
        {
            "cell_type": "code",
            "execution_count": 3,
            "metadata": {},
            "outputs": [],
            "source": [
                "import loompy # needed for importing data for this tutorial\n",
                "import numpy as np # needed for formatting data for this tutorial\n",
                "import pandas as pd # needed for formatting data for this tutorial\n",
                "import cellex"
            ]
        },
        {
            "cell_type": "markdown",
            "metadata": {},
            "source": [
                "# Set constants"
            ]
        },
        {
            "cell_type": "code",
            "execution_count": 4,
            "metadata": {},
            "outputs": [],
            "source": [
                "### Set constants\n",
                "dirOut = \"cellex_demo_out\" # output directory for results and plots\n",
                "prefixData = \"mousebrain_vascular_cells\" # prefix to prepend to files\n",
                "\n",
                "pathData = \"./l6_r1_vascular_cells.loom\"\n",
                "pathData = \"/scratch/l6_r2_vascular_cells.loom\"\n",
                "nameAnno = \"ClusterName\" # metadata annotation column attribute name\n",
                "nameId = \"CellID\" # metadata cell id column attribute name\n",
                "nameClass = \"Class\""
            ]
        },
        {
            "cell_type": "markdown",
            "metadata": {},
            "source": [
                "# Import and format data\n",
                "\n",
                "Cellex takes Pandas dataframes as input. These must conform to a certain format. See the output below.\n",
                "\n",
                "## Data\n",
                "N.B. This dataset contains a few duplicate cells. Thus some additional data wrangling is necessary."
            ]
        },
        {
            "cell_type": "code",
            "execution_count": 5,
            "metadata": {},
            "outputs": [
                {
                    "name": "stdout",
                    "output_type": "stream",
                    "text": [
                        "Removed duplicates from data and metadata. 12144 / 12147 cells remaining.\n",
                        "Metadata contains 10 unique cell-type annotations.\n"
                    ]
                }
            ],
            "source": [
                "with loompy.connect(pathData) as ds:\n",
                "    rows = (ds.row_attrs[\"Accession\"])\n",
                "    cols = (ds.col_attrs[nameId])\n",
                "    \n",
                "    data = pd.DataFrame(ds[:, :], index=rows, columns=cols)\n",
                "    metadata = pd.DataFrame(data={\"cell_type\" : ds.col_attrs[nameAnno]}, index=ds.col_attrs[nameId])\n",
                "    metadata_class = pd.DataFrame(data={\"cell_class\" : ds.col_attrs[nameClass]}, index=ds.col_attrs[nameAnno])\n",
                "    n_cells_total = data.shape[1]\n",
                "    \n",
                "    # Handle duplicate CellID's in dataset\n",
                "    data = data.loc[:, ~data.columns.duplicated()] # our data\n",
                "    metadata = metadata.loc[~metadata.index.duplicated(keep='first')] # the type-annotation for individual cells\n",
                "    metadata_class = metadata_class.loc[~metadata_class.index.duplicated(keep='first')] # class-annotation for cell types\n",
                "    n_types = len(np.unique(metadata[\"cell_type\"].values))\n",
                "    \n",
                "    n_cells_remaining = data.shape[1]\n",
                "    print(\"Removed duplicates from data and metadata. {} / {} cells remaining.\".format(n_cells_remaining, n_cells_total))\n",
                "    print(\"Metadata contains {} unique cell-type annotations.\".format(n_types))\n"
            ]
        },
        {
            "cell_type": "code",
            "execution_count": 6,
            "metadata": {},
            "outputs": [
                {
                    "data": {
                        "text/html": [
                            "<div>\n",
                            "<style scoped>\n",
                            "    .dataframe tbody tr th:only-of-type {\n",
                            "        vertical-align: middle;\n",
                            "    }\n",
                            "\n",
                            "    .dataframe tbody tr th {\n",
                            "        vertical-align: top;\n",
                            "    }\n",
                            "\n",
                            "    .dataframe thead th {\n",
                            "        text-align: right;\n",
                            "    }\n",
                            "</style>\n",
                            "<table border=\"1\" class=\"dataframe\">\n",
                            "  <thead>\n",
                            "    <tr style=\"text-align: right;\">\n",
                            "      <th></th>\n",
                            "      <th>10X01_1_GACGATTGTGCGTA-1</th>\n",
                            "      <th>10X28_4_GATTGGACGCTGTA-1</th>\n",
                            "      <th>10X05_2_CATTGGGAAGCCTA-1</th>\n",
                            "      <th>10X01_1_GAGCGCACCCAAGT-1</th>\n",
                            "      <th>10X28_5_GTTGTACTTACTCT-1</th>\n",
                            "      <th>10X01_1_GGCCACGAGTATGC-1</th>\n",
                            "      <th>10X01_1_GAGGCCACCGGGAA-1</th>\n",
                            "      <th>10X57_3_AGATGATCCTGC-</th>\n",
                            "      <th>10X55_4_AGCAAAGAAGAAGC-</th>\n",
                            "      <th>10X57_3_TGTGACAGAAGT-</th>\n",
                            "      <th>...</th>\n",
                            "      <th>10X53_4_GATGGAATCACG-</th>\n",
                            "      <th>10X51_3_GCATGAAACGTC-</th>\n",
                            "      <th>10X50_8_TTAGACATCAGC-</th>\n",
                            "      <th>10X52_3_CAGTGAACTTTC-</th>\n",
                            "      <th>10X20_3_TGAGACACCAGAGG-1</th>\n",
                            "      <th>10X51_4_GGTGACTGAAGA-</th>\n",
                            "      <th>10X52_3_ACTTGACTGAGT-</th>\n",
                            "      <th>10X28_2_GTTAAATGTGGTCA-1</th>\n",
                            "      <th>10X50_4_AGCTCTTTTGTC-</th>\n",
                            "      <th>10X50_1_GGAGTGCCAAGT-</th>\n",
                            "    </tr>\n",
                            "  </thead>\n",
                            "  <tbody>\n",
                            "    <tr>\n",
                            "      <th>ENSMUSG00000034353</th>\n",
                            "      <td>12.0</td>\n",
                            "      <td>9.0</td>\n",
                            "      <td>8.0</td>\n",
                            "      <td>18.0</td>\n",
                            "      <td>4.0</td>\n",
                            "      <td>7.0</td>\n",
                            "      <td>8.0</td>\n",
                            "      <td>24.0</td>\n",
                            "      <td>5.0</td>\n",
                            "      <td>4.0</td>\n",
                            "      <td>...</td>\n",
                            "      <td>0.0</td>\n",
                            "      <td>0.0</td>\n",
                            "      <td>0.0</td>\n",
                            "      <td>1.0</td>\n",
                            "      <td>0.0</td>\n",
                            "      <td>0.0</td>\n",
                            "      <td>0.0</td>\n",
                            "      <td>0.0</td>\n",
                            "      <td>0.0</td>\n",
                            "      <td>0.0</td>\n",
                            "    </tr>\n",
                            "    <tr>\n",
                            "      <th>ENSMUSG00000019872</th>\n",
                            "      <td>2.0</td>\n",
                            "      <td>1.0</td>\n",
                            "      <td>0.0</td>\n",
                            "      <td>3.0</td>\n",
                            "      <td>1.0</td>\n",
                            "      <td>1.0</td>\n",
                            "      <td>1.0</td>\n",
                            "      <td>0.0</td>\n",
                            "      <td>0.0</td>\n",
                            "      <td>1.0</td>\n",
                            "      <td>...</td>\n",
                            "      <td>0.0</td>\n",
                            "      <td>0.0</td>\n",
                            "      <td>0.0</td>\n",
                            "      <td>1.0</td>\n",
                            "      <td>0.0</td>\n",
                            "      <td>0.0</td>\n",
                            "      <td>0.0</td>\n",
                            "      <td>0.0</td>\n",
                            "      <td>2.0</td>\n",
                            "      <td>0.0</td>\n",
                            "    </tr>\n",
                            "    <tr>\n",
                            "      <th>ENSMUSG00000026051</th>\n",
                            "      <td>27.0</td>\n",
                            "      <td>1.0</td>\n",
                            "      <td>13.0</td>\n",
                            "      <td>41.0</td>\n",
                            "      <td>0.0</td>\n",
                            "      <td>1.0</td>\n",
                            "      <td>4.0</td>\n",
                            "      <td>1.0</td>\n",
                            "      <td>0.0</td>\n",
                            "      <td>1.0</td>\n",
                            "      <td>...</td>\n",
                            "      <td>0.0</td>\n",
                            "      <td>0.0</td>\n",
                            "      <td>0.0</td>\n",
                            "      <td>0.0</td>\n",
                            "      <td>0.0</td>\n",
                            "      <td>0.0</td>\n",
                            "      <td>0.0</td>\n",
                            "      <td>0.0</td>\n",
                            "      <td>0.0</td>\n",
                            "      <td>0.0</td>\n",
                            "    </tr>\n",
                            "    <tr>\n",
                            "      <th>ENSMUSG00000023046</th>\n",
                            "      <td>7.0</td>\n",
                            "      <td>26.0</td>\n",
                            "      <td>2.0</td>\n",
                            "      <td>16.0</td>\n",
                            "      <td>7.0</td>\n",
                            "      <td>12.0</td>\n",
                            "      <td>8.0</td>\n",
                            "      <td>11.0</td>\n",
                            "      <td>3.0</td>\n",
                            "      <td>2.0</td>\n",
                            "      <td>...</td>\n",
                            "      <td>0.0</td>\n",
                            "      <td>0.0</td>\n",
                            "      <td>0.0</td>\n",
                            "      <td>0.0</td>\n",
                            "      <td>0.0</td>\n",
                            "      <td>0.0</td>\n",
                            "      <td>0.0</td>\n",
                            "      <td>0.0</td>\n",
                            "      <td>0.0</td>\n",
                            "      <td>0.0</td>\n",
                            "    </tr>\n",
                            "    <tr>\n",
                            "      <th>ENSMUSG00000089661</th>\n",
                            "      <td>7.0</td>\n",
                            "      <td>3.0</td>\n",
                            "      <td>2.0</td>\n",
                            "      <td>5.0</td>\n",
                            "      <td>5.0</td>\n",
                            "      <td>0.0</td>\n",
                            "      <td>0.0</td>\n",
                            "      <td>2.0</td>\n",
                            "      <td>0.0</td>\n",
                            "      <td>0.0</td>\n",
                            "      <td>...</td>\n",
                            "      <td>0.0</td>\n",
                            "      <td>0.0</td>\n",
                            "      <td>0.0</td>\n",
                            "      <td>0.0</td>\n",
                            "      <td>0.0</td>\n",
                            "      <td>0.0</td>\n",
                            "      <td>0.0</td>\n",
                            "      <td>0.0</td>\n",
                            "      <td>0.0</td>\n",
                            "      <td>0.0</td>\n",
                            "    </tr>\n",
                            "  </tbody>\n",
                            "</table>\n",
                            "<p>5 rows × 12144 columns</p>\n",
                            "</div>"
                        ],
                        "text/plain": [
                            "                    10X01_1_GACGATTGTGCGTA-1  10X28_4_GATTGGACGCTGTA-1  \\\n",
                            "ENSMUSG00000034353                      12.0                       9.0   \n",
                            "ENSMUSG00000019872                       2.0                       1.0   \n",
                            "ENSMUSG00000026051                      27.0                       1.0   \n",
                            "ENSMUSG00000023046                       7.0                      26.0   \n",
                            "ENSMUSG00000089661                       7.0                       3.0   \n",
                            "\n",
                            "                    10X05_2_CATTGGGAAGCCTA-1  10X01_1_GAGCGCACCCAAGT-1  \\\n",
                            "ENSMUSG00000034353                       8.0                      18.0   \n",
                            "ENSMUSG00000019872                       0.0                       3.0   \n",
                            "ENSMUSG00000026051                      13.0                      41.0   \n",
                            "ENSMUSG00000023046                       2.0                      16.0   \n",
                            "ENSMUSG00000089661                       2.0                       5.0   \n",
                            "\n",
                            "                    10X28_5_GTTGTACTTACTCT-1  10X01_1_GGCCACGAGTATGC-1  \\\n",
                            "ENSMUSG00000034353                       4.0                       7.0   \n",
                            "ENSMUSG00000019872                       1.0                       1.0   \n",
                            "ENSMUSG00000026051                       0.0                       1.0   \n",
                            "ENSMUSG00000023046                       7.0                      12.0   \n",
                            "ENSMUSG00000089661                       5.0                       0.0   \n",
                            "\n",
                            "                    10X01_1_GAGGCCACCGGGAA-1  10X57_3_AGATGATCCTGC-  \\\n",
                            "ENSMUSG00000034353                       8.0                   24.0   \n",
                            "ENSMUSG00000019872                       1.0                    0.0   \n",
                            "ENSMUSG00000026051                       4.0                    1.0   \n",
                            "ENSMUSG00000023046                       8.0                   11.0   \n",
                            "ENSMUSG00000089661                       0.0                    2.0   \n",
                            "\n",
                            "                    10X55_4_AGCAAAGAAGAAGC-  10X57_3_TGTGACAGAAGT-  ...  \\\n",
                            "ENSMUSG00000034353                      5.0                    4.0  ...   \n",
                            "ENSMUSG00000019872                      0.0                    1.0  ...   \n",
                            "ENSMUSG00000026051                      0.0                    1.0  ...   \n",
                            "ENSMUSG00000023046                      3.0                    2.0  ...   \n",
                            "ENSMUSG00000089661                      0.0                    0.0  ...   \n",
                            "\n",
                            "                    10X53_4_GATGGAATCACG-  10X51_3_GCATGAAACGTC-  \\\n",
                            "ENSMUSG00000034353                    0.0                    0.0   \n",
                            "ENSMUSG00000019872                    0.0                    0.0   \n",
                            "ENSMUSG00000026051                    0.0                    0.0   \n",
                            "ENSMUSG00000023046                    0.0                    0.0   \n",
                            "ENSMUSG00000089661                    0.0                    0.0   \n",
                            "\n",
                            "                    10X50_8_TTAGACATCAGC-  10X52_3_CAGTGAACTTTC-  \\\n",
                            "ENSMUSG00000034353                    0.0                    1.0   \n",
                            "ENSMUSG00000019872                    0.0                    1.0   \n",
                            "ENSMUSG00000026051                    0.0                    0.0   \n",
                            "ENSMUSG00000023046                    0.0                    0.0   \n",
                            "ENSMUSG00000089661                    0.0                    0.0   \n",
                            "\n",
                            "                    10X20_3_TGAGACACCAGAGG-1  10X51_4_GGTGACTGAAGA-  \\\n",
                            "ENSMUSG00000034353                       0.0                    0.0   \n",
                            "ENSMUSG00000019872                       0.0                    0.0   \n",
                            "ENSMUSG00000026051                       0.0                    0.0   \n",
                            "ENSMUSG00000023046                       0.0                    0.0   \n",
                            "ENSMUSG00000089661                       0.0                    0.0   \n",
                            "\n",
                            "                    10X52_3_ACTTGACTGAGT-  10X28_2_GTTAAATGTGGTCA-1  \\\n",
                            "ENSMUSG00000034353                    0.0                       0.0   \n",
                            "ENSMUSG00000019872                    0.0                       0.0   \n",
                            "ENSMUSG00000026051                    0.0                       0.0   \n",
                            "ENSMUSG00000023046                    0.0                       0.0   \n",
                            "ENSMUSG00000089661                    0.0                       0.0   \n",
                            "\n",
                            "                    10X50_4_AGCTCTTTTGTC-  10X50_1_GGAGTGCCAAGT-  \n",
                            "ENSMUSG00000034353                    0.0                    0.0  \n",
                            "ENSMUSG00000019872                    2.0                    0.0  \n",
                            "ENSMUSG00000026051                    0.0                    0.0  \n",
                            "ENSMUSG00000023046                    0.0                    0.0  \n",
                            "ENSMUSG00000089661                    0.0                    0.0  \n",
                            "\n",
                            "[5 rows x 12144 columns]"
                        ]
                    },
                    "execution_count": 6,
                    "metadata": {},
                    "output_type": "execute_result"
                }
            ],
            "source": [
                "data.head()"
            ]
        },
        {
            "cell_type": "markdown",
            "metadata": {},
            "source": [
                "## Metadata\n",
                "N.B. Index values must be unique, like the cells."
            ]
        },
        {
            "cell_type": "code",
            "execution_count": 7,
            "metadata": {},
            "outputs": [
                {
                    "data": {
                        "text/html": [
                            "<div>\n",
                            "<style scoped>\n",
                            "    .dataframe tbody tr th:only-of-type {\n",
                            "        vertical-align: middle;\n",
                            "    }\n",
                            "\n",
                            "    .dataframe tbody tr th {\n",
                            "        vertical-align: top;\n",
                            "    }\n",
                            "\n",
                            "    .dataframe thead th {\n",
                            "        text-align: right;\n",
                            "    }\n",
                            "</style>\n",
                            "<table border=\"1\" class=\"dataframe\">\n",
                            "  <thead>\n",
                            "    <tr style=\"text-align: right;\">\n",
                            "      <th></th>\n",
                            "      <th>cell_type</th>\n",
                            "    </tr>\n",
                            "  </thead>\n",
                            "  <tbody>\n",
                            "    <tr>\n",
                            "      <th>10X01_1_GACGATTGTGCGTA-1</th>\n",
                            "      <td>ABC</td>\n",
                            "    </tr>\n",
                            "    <tr>\n",
                            "      <th>10X28_4_GATTGGACGCTGTA-1</th>\n",
                            "      <td>ABC</td>\n",
                            "    </tr>\n",
                            "    <tr>\n",
                            "      <th>10X05_2_CATTGGGAAGCCTA-1</th>\n",
                            "      <td>ABC</td>\n",
                            "    </tr>\n",
                            "    <tr>\n",
                            "      <th>10X01_1_GAGCGCACCCAAGT-1</th>\n",
                            "      <td>ABC</td>\n",
                            "    </tr>\n",
                            "    <tr>\n",
                            "      <th>10X28_5_GTTGTACTTACTCT-1</th>\n",
                            "      <td>ABC</td>\n",
                            "    </tr>\n",
                            "  </tbody>\n",
                            "</table>\n",
                            "</div>"
                        ],
                        "text/plain": [
                            "                         cell_type\n",
                            "10X01_1_GACGATTGTGCGTA-1       ABC\n",
                            "10X28_4_GATTGGACGCTGTA-1       ABC\n",
                            "10X05_2_CATTGGGAAGCCTA-1       ABC\n",
                            "10X01_1_GAGCGCACCCAAGT-1       ABC\n",
                            "10X28_5_GTTGTACTTACTCT-1       ABC"
                        ]
                    },
                    "execution_count": 7,
                    "metadata": {},
                    "output_type": "execute_result"
                }
            ],
            "source": [
                "metadata.head()"
            ]
        },
        {
            "cell_type": "markdown",
            "metadata": {},
            "source": [
                "# Create `ESObject` and compute Expression Specificity\n",
                "\n",
                "The `ESObject` encapsulates the core features of CELLEX. We set `verbose=True` to get some progress reports.\n",
                "\n",
                "N.B. the computations may take a while depending on the data and available computational power."
            ]
        },
        {
            "cell_type": "code",
            "execution_count": 8,
            "metadata": {},
            "outputs": [
                {
                    "name": "stdout",
                    "output_type": "stream",
                    "text": [
                        "Preprocessing - running remove_non_expressed ... excluded 8944 / 27998 genes in 0 min 3 sec\n",
                        "Preprocessing - normalizing data ... data normalized in 0 min 21 sec\n",
                        "Preprocessing - running ANOVA ... excluded 9835 / 19054 genes in 0 min 22 sec\n"
                    ]
                }
            ],
            "source": [
                "eso = cellex.ESObject(data=data, annotation=metadata, verbose=True)"
            ]
        },
        {
            "cell_type": "code",
            "execution_count": 9,
            "metadata": {},
            "outputs": [
                {
                    "name": "stdout",
                    "output_type": "stream",
                    "text": [
                        "Computing DET ... \n",
                        "    esw ...\n",
                        "    empirical p-values ...\n",
                        "    esw_s ...\n",
                        "    finished in 0 min 5 sec\n",
                        "Computing EP ...\n",
                        "    esw ...\n",
                        "    empirical p-values ...\n",
                        "    esw_s ...\n",
                        "    finished in 0 min 0 sec\n",
                        "Computing GES ...\n",
                        "    esw ...\n",
                        "    empirical p-values ...\n",
                        "    esw_s ...\n",
                        "    finished in 0 min 11 sec\n",
                        "Computing NSI ...\n",
                        "    esw ...\n",
                        "    empirical p-values ...\n",
                        "    esw_s ...\n",
                        "    finished in 0 min 0 sec\n",
                        "Computing ESmu ...\n",
                        "    finished in 0 min 0 sec\n",
                        "Computing ESsd ...\n",
                        "    finished in 0 min 0 sec\n",
                        "Computed ['det.esw', 'det.esw_null', 'det.pvals', 'det.esw_s', 'ep.esw', 'ep.esw_null', 'ep.pvals', 'ep.esw_s', 'ges.esw', 'ges.esw_null', 'ges.pvals', 'ges.esw_s', 'nsi.esw', 'nsi.esw_null', 'nsi.pvals', 'nsi.esw_s', 'esmu', 'essd'].\n"
                    ]
                }
            ],
            "source": [
                "eso.compute(verbose=True)"
            ]
        },
        {
            "cell_type": "code",
            "execution_count": 10,
            "metadata": {},
            "outputs": [
                {
                    "data": {
                        "text/html": [
                            "<div>\n",
                            "<style scoped>\n",
                            "    .dataframe tbody tr th:only-of-type {\n",
                            "        vertical-align: middle;\n",
                            "    }\n",
                            "\n",
                            "    .dataframe tbody tr th {\n",
                            "        vertical-align: top;\n",
                            "    }\n",
                            "\n",
                            "    .dataframe thead th {\n",
                            "        text-align: right;\n",
                            "    }\n",
                            "</style>\n",
                            "<table border=\"1\" class=\"dataframe\">\n",
                            "  <thead>\n",
                            "    <tr style=\"text-align: right;\">\n",
                            "      <th></th>\n",
                            "      <th>ABC</th>\n",
                            "      <th>PER1</th>\n",
                            "      <th>PER2</th>\n",
                            "      <th>PER3</th>\n",
                            "      <th>VECA</th>\n",
                            "      <th>VECC</th>\n",
                            "      <th>VECV</th>\n",
                            "      <th>VLMC1</th>\n",
                            "      <th>VLMC2</th>\n",
                            "      <th>VSMCA</th>\n",
                            "    </tr>\n",
                            "  </thead>\n",
                            "  <tbody>\n",
                            "    <tr>\n",
                            "      <th>ENSMUSG00000034353</th>\n",
                            "      <td>0.685475</td>\n",
                            "      <td>0.000000</td>\n",
                            "      <td>0.0</td>\n",
                            "      <td>0.0</td>\n",
                            "      <td>0.0</td>\n",
                            "      <td>0.0</td>\n",
                            "      <td>0.000000</td>\n",
                            "      <td>0.0</td>\n",
                            "      <td>0.265257</td>\n",
                            "      <td>0.659205</td>\n",
                            "    </tr>\n",
                            "    <tr>\n",
                            "      <th>ENSMUSG00000019872</th>\n",
                            "      <td>0.296735</td>\n",
                            "      <td>0.125344</td>\n",
                            "      <td>0.0</td>\n",
                            "      <td>0.0</td>\n",
                            "      <td>0.0</td>\n",
                            "      <td>0.0</td>\n",
                            "      <td>0.859903</td>\n",
                            "      <td>0.0</td>\n",
                            "      <td>0.000000</td>\n",
                            "      <td>0.000000</td>\n",
                            "    </tr>\n",
                            "    <tr>\n",
                            "      <th>ENSMUSG00000026051</th>\n",
                            "      <td>0.860563</td>\n",
                            "      <td>0.000000</td>\n",
                            "      <td>0.0</td>\n",
                            "      <td>0.0</td>\n",
                            "      <td>0.0</td>\n",
                            "      <td>0.0</td>\n",
                            "      <td>0.000000</td>\n",
                            "      <td>0.0</td>\n",
                            "      <td>0.201285</td>\n",
                            "      <td>0.000000</td>\n",
                            "    </tr>\n",
                            "    <tr>\n",
                            "      <th>ENSMUSG00000023046</th>\n",
                            "      <td>0.755779</td>\n",
                            "      <td>0.000000</td>\n",
                            "      <td>0.0</td>\n",
                            "      <td>0.0</td>\n",
                            "      <td>0.0</td>\n",
                            "      <td>0.0</td>\n",
                            "      <td>0.000000</td>\n",
                            "      <td>0.0</td>\n",
                            "      <td>0.432777</td>\n",
                            "      <td>0.000000</td>\n",
                            "    </tr>\n",
                            "    <tr>\n",
                            "      <th>ENSMUSG00000089661</th>\n",
                            "      <td>0.925753</td>\n",
                            "      <td>0.000000</td>\n",
                            "      <td>0.0</td>\n",
                            "      <td>0.0</td>\n",
                            "      <td>0.0</td>\n",
                            "      <td>0.0</td>\n",
                            "      <td>0.000000</td>\n",
                            "      <td>0.0</td>\n",
                            "      <td>0.000000</td>\n",
                            "      <td>0.000000</td>\n",
                            "    </tr>\n",
                            "  </tbody>\n",
                            "</table>\n",
                            "</div>"
                        ],
                        "text/plain": [
                            "                         ABC      PER1  PER2  PER3  VECA  VECC      VECV  \\\n",
                            "ENSMUSG00000034353  0.685475  0.000000   0.0   0.0   0.0   0.0  0.000000   \n",
                            "ENSMUSG00000019872  0.296735  0.125344   0.0   0.0   0.0   0.0  0.859903   \n",
                            "ENSMUSG00000026051  0.860563  0.000000   0.0   0.0   0.0   0.0  0.000000   \n",
                            "ENSMUSG00000023046  0.755779  0.000000   0.0   0.0   0.0   0.0  0.000000   \n",
                            "ENSMUSG00000089661  0.925753  0.000000   0.0   0.0   0.0   0.0  0.000000   \n",
                            "\n",
                            "                    VLMC1     VLMC2     VSMCA  \n",
                            "ENSMUSG00000034353    0.0  0.265257  0.659205  \n",
                            "ENSMUSG00000019872    0.0  0.000000  0.000000  \n",
                            "ENSMUSG00000026051    0.0  0.201285  0.000000  \n",
                            "ENSMUSG00000023046    0.0  0.432777  0.000000  \n",
                            "ENSMUSG00000089661    0.0  0.000000  0.000000  "
                        ]
                    },
                    "execution_count": 10,
                    "metadata": {},
                    "output_type": "execute_result"
                }
            ],
            "source": [
                "eso.results[\"esmu\"].head()"
            ]
        },
        {
            "cell_type": "markdown",
            "metadata": {},
            "source": [
                "# (Optional) Map mouse Ensembl gene id's to human Ensembl gene id's\n",
                "\n",
                "N.B. Genes are mapped in-place."
            ]
        },
        {
            "cell_type": "code",
            "execution_count": 11,
            "metadata": {},
            "outputs": [
                {
                    "name": "stdout",
                    "output_type": "stream",
                    "text": [
                        "Mapping: mouse ensembl gene id's --> human ensembl gene id's ...\n",
                        "12.62 pct of genes are unmapped ...\n",
                        "Removed 1163 unmapped genes ...\n",
                        "Mapping: human ensembl gene id's --> gene names ...\n",
                        "0.52 pct of genes are unmapped ...\n",
                        "Removed 42 unmapped genes ...\n",
                        "Mapping: mouse ensembl gene id's --> human ensembl gene id's ...\n",
                        "12.62 pct of genes are unmapped ...\n",
                        "Removed 1163 unmapped genes ...\n",
                        "Mapping: human ensembl gene id's --> gene names ...\n",
                        "0.52 pct of genes are unmapped ...\n",
                        "Removed 42 unmapped genes ...\n"
                    ]
                }
            ],
            "source": [
                "cellex.utils.mapping.ens_mouse_to_ens_human(eso.results[\"esmu\"], drop_unmapped=True, verbose=True)\n",
                "cellex.utils.mapping.ens_human_to_symbol(eso.results[\"esmu\"], drop_unmapped=True, verbose=True)\n",
                "\n",
                "cellex.utils.mapping.ens_mouse_to_ens_human(eso.results[\"essd\"], drop_unmapped=True, verbose=True)\n",
                "cellex.utils.mapping.ens_human_to_symbol(eso.results[\"essd\"], drop_unmapped=True, verbose=True)"
            ]
        },
        {
            "cell_type": "code",
            "execution_count": 12,
            "metadata": {},
            "outputs": [
                {
                    "data": {
                        "text/html": [
                            "<div>\n",
                            "<style scoped>\n",
                            "    .dataframe tbody tr th:only-of-type {\n",
                            "        vertical-align: middle;\n",
                            "    }\n",
                            "\n",
                            "    .dataframe tbody tr th {\n",
                            "        vertical-align: top;\n",
                            "    }\n",
                            "\n",
                            "    .dataframe thead th {\n",
                            "        text-align: right;\n",
                            "    }\n",
                            "</style>\n",
                            "<table border=\"1\" class=\"dataframe\">\n",
                            "  <thead>\n",
                            "    <tr style=\"text-align: right;\">\n",
                            "      <th></th>\n",
                            "      <th>ABC</th>\n",
                            "      <th>PER1</th>\n",
                            "      <th>PER2</th>\n",
                            "      <th>PER3</th>\n",
                            "      <th>VECA</th>\n",
                            "      <th>VECC</th>\n",
                            "      <th>VECV</th>\n",
                            "      <th>VLMC1</th>\n",
                            "      <th>VLMC2</th>\n",
                            "      <th>VSMCA</th>\n",
                            "    </tr>\n",
                            "  </thead>\n",
                            "  <tbody>\n",
                            "    <tr>\n",
                            "      <th>RAMP1</th>\n",
                            "      <td>0.685475</td>\n",
                            "      <td>0.000000</td>\n",
                            "      <td>0.0</td>\n",
                            "      <td>0.0</td>\n",
                            "      <td>0.0</td>\n",
                            "      <td>0.0</td>\n",
                            "      <td>0.000000</td>\n",
                            "      <td>0.0</td>\n",
                            "      <td>0.265257</td>\n",
                            "      <td>0.659205</td>\n",
                            "    </tr>\n",
                            "    <tr>\n",
                            "      <th>SMPDL3A</th>\n",
                            "      <td>0.296735</td>\n",
                            "      <td>0.125344</td>\n",
                            "      <td>0.0</td>\n",
                            "      <td>0.0</td>\n",
                            "      <td>0.0</td>\n",
                            "      <td>0.0</td>\n",
                            "      <td>0.859903</td>\n",
                            "      <td>0.0</td>\n",
                            "      <td>0.000000</td>\n",
                            "      <td>0.000000</td>\n",
                            "    </tr>\n",
                            "    <tr>\n",
                            "      <th>C2orf40</th>\n",
                            "      <td>0.860563</td>\n",
                            "      <td>0.000000</td>\n",
                            "      <td>0.0</td>\n",
                            "      <td>0.0</td>\n",
                            "      <td>0.0</td>\n",
                            "      <td>0.0</td>\n",
                            "      <td>0.000000</td>\n",
                            "      <td>0.0</td>\n",
                            "      <td>0.201285</td>\n",
                            "      <td>0.000000</td>\n",
                            "    </tr>\n",
                            "    <tr>\n",
                            "      <th>IGFBP6</th>\n",
                            "      <td>0.755779</td>\n",
                            "      <td>0.000000</td>\n",
                            "      <td>0.0</td>\n",
                            "      <td>0.0</td>\n",
                            "      <td>0.0</td>\n",
                            "      <td>0.0</td>\n",
                            "      <td>0.000000</td>\n",
                            "      <td>0.0</td>\n",
                            "      <td>0.432777</td>\n",
                            "      <td>0.000000</td>\n",
                            "    </tr>\n",
                            "    <tr>\n",
                            "      <th>CLU</th>\n",
                            "      <td>0.679272</td>\n",
                            "      <td>0.000000</td>\n",
                            "      <td>0.0</td>\n",
                            "      <td>0.0</td>\n",
                            "      <td>0.0</td>\n",
                            "      <td>0.0</td>\n",
                            "      <td>0.000000</td>\n",
                            "      <td>0.0</td>\n",
                            "      <td>0.205419</td>\n",
                            "      <td>0.000000</td>\n",
                            "    </tr>\n",
                            "  </tbody>\n",
                            "</table>\n",
                            "</div>"
                        ],
                        "text/plain": [
                            "              ABC      PER1  PER2  PER3  VECA  VECC      VECV  VLMC1  \\\n",
                            "RAMP1    0.685475  0.000000   0.0   0.0   0.0   0.0  0.000000    0.0   \n",
                            "SMPDL3A  0.296735  0.125344   0.0   0.0   0.0   0.0  0.859903    0.0   \n",
                            "C2orf40  0.860563  0.000000   0.0   0.0   0.0   0.0  0.000000    0.0   \n",
                            "IGFBP6   0.755779  0.000000   0.0   0.0   0.0   0.0  0.000000    0.0   \n",
                            "CLU      0.679272  0.000000   0.0   0.0   0.0   0.0  0.000000    0.0   \n",
                            "\n",
                            "            VLMC2     VSMCA  \n",
                            "RAMP1    0.265257  0.659205  \n",
                            "SMPDL3A  0.000000  0.000000  \n",
                            "C2orf40  0.201285  0.000000  \n",
                            "IGFBP6   0.432777  0.000000  \n",
                            "CLU      0.205419  0.000000  "
                        ]
                    },
                    "execution_count": 12,
                    "metadata": {},
                    "output_type": "execute_result"
                }
            ],
            "source": [
                "eso.results[\"esmu\"].head()"
            ]
        },
        {
            "cell_type": "code",
            "execution_count": 13,
            "metadata": {},
            "outputs": [
                {
                    "data": {
                        "text/html": [
                            "<div>\n",
                            "<style scoped>\n",
                            "    .dataframe tbody tr th:only-of-type {\n",
                            "        vertical-align: middle;\n",
                            "    }\n",
                            "\n",
                            "    .dataframe tbody tr th {\n",
                            "        vertical-align: top;\n",
                            "    }\n",
                            "\n",
                            "    .dataframe thead th {\n",
                            "        text-align: right;\n",
                            "    }\n",
                            "</style>\n",
                            "<table border=\"1\" class=\"dataframe\">\n",
                            "  <thead>\n",
                            "    <tr style=\"text-align: right;\">\n",
                            "      <th></th>\n",
                            "      <th>ABC</th>\n",
                            "      <th>PER1</th>\n",
                            "      <th>PER2</th>\n",
                            "      <th>PER3</th>\n",
                            "      <th>VECA</th>\n",
                            "      <th>VECC</th>\n",
                            "      <th>VECV</th>\n",
                            "      <th>VLMC1</th>\n",
                            "      <th>VLMC2</th>\n",
                            "      <th>VSMCA</th>\n",
                            "    </tr>\n",
                            "  </thead>\n",
                            "  <tbody>\n",
                            "    <tr>\n",
                            "      <th>RAMP1</th>\n",
                            "      <td>0.369829</td>\n",
                            "      <td>0.00000</td>\n",
                            "      <td>0.0</td>\n",
                            "      <td>0.0</td>\n",
                            "      <td>0.0</td>\n",
                            "      <td>0.0</td>\n",
                            "      <td>0.000000</td>\n",
                            "      <td>0.0</td>\n",
                            "      <td>0.272675</td>\n",
                            "      <td>0.244247</td>\n",
                            "    </tr>\n",
                            "    <tr>\n",
                            "      <th>SMPDL3A</th>\n",
                            "      <td>0.215842</td>\n",
                            "      <td>0.13058</td>\n",
                            "      <td>0.0</td>\n",
                            "      <td>0.0</td>\n",
                            "      <td>0.0</td>\n",
                            "      <td>0.0</td>\n",
                            "      <td>0.068965</td>\n",
                            "      <td>0.0</td>\n",
                            "      <td>0.000000</td>\n",
                            "      <td>0.000000</td>\n",
                            "    </tr>\n",
                            "    <tr>\n",
                            "      <th>C2orf40</th>\n",
                            "      <td>0.168793</td>\n",
                            "      <td>0.00000</td>\n",
                            "      <td>0.0</td>\n",
                            "      <td>0.0</td>\n",
                            "      <td>0.0</td>\n",
                            "      <td>0.0</td>\n",
                            "      <td>0.000000</td>\n",
                            "      <td>0.0</td>\n",
                            "      <td>0.211099</td>\n",
                            "      <td>0.000000</td>\n",
                            "    </tr>\n",
                            "    <tr>\n",
                            "      <th>IGFBP6</th>\n",
                            "      <td>0.312263</td>\n",
                            "      <td>0.00000</td>\n",
                            "      <td>0.0</td>\n",
                            "      <td>0.0</td>\n",
                            "      <td>0.0</td>\n",
                            "      <td>0.0</td>\n",
                            "      <td>0.000000</td>\n",
                            "      <td>0.0</td>\n",
                            "      <td>0.433928</td>\n",
                            "      <td>0.000000</td>\n",
                            "    </tr>\n",
                            "    <tr>\n",
                            "      <th>CLU</th>\n",
                            "      <td>0.376603</td>\n",
                            "      <td>0.00000</td>\n",
                            "      <td>0.0</td>\n",
                            "      <td>0.0</td>\n",
                            "      <td>0.0</td>\n",
                            "      <td>0.0</td>\n",
                            "      <td>0.000000</td>\n",
                            "      <td>0.0</td>\n",
                            "      <td>0.205428</td>\n",
                            "      <td>0.000000</td>\n",
                            "    </tr>\n",
                            "  </tbody>\n",
                            "</table>\n",
                            "</div>"
                        ],
                        "text/plain": [
                            "              ABC     PER1  PER2  PER3  VECA  VECC      VECV  VLMC1     VLMC2  \\\n",
                            "RAMP1    0.369829  0.00000   0.0   0.0   0.0   0.0  0.000000    0.0  0.272675   \n",
                            "SMPDL3A  0.215842  0.13058   0.0   0.0   0.0   0.0  0.068965    0.0  0.000000   \n",
                            "C2orf40  0.168793  0.00000   0.0   0.0   0.0   0.0  0.000000    0.0  0.211099   \n",
                            "IGFBP6   0.312263  0.00000   0.0   0.0   0.0   0.0  0.000000    0.0  0.433928   \n",
                            "CLU      0.376603  0.00000   0.0   0.0   0.0   0.0  0.000000    0.0  0.205428   \n",
                            "\n",
                            "            VSMCA  \n",
                            "RAMP1    0.244247  \n",
                            "SMPDL3A  0.000000  \n",
                            "C2orf40  0.000000  \n",
                            "IGFBP6   0.000000  \n",
                            "CLU      0.000000  "
                        ]
                    },
                    "execution_count": 13,
                    "metadata": {},
                    "output_type": "execute_result"
                }
            ],
            "source": [
                "eso.results[\"essd\"].head()"
            ]
        },
        {
            "cell_type": "markdown",
            "metadata": {},
            "source": [
                "# Save results to disk\n",
                "N.B. by default, only ESmu is saved.\n",
                "\n",
                "Function signature: `eso.save_as_csv(keys: list=None, path: str=None, file_prefix: str=None, verbose: bool=False)`\n",
                "\n",
                "\n",
                "`keys`\n",
                "* Using 'keys', the user may specify which results are saved.\n",
                "\n",
                "* If keys is None, only ESmu is saved.\n",
                "\n",
                "* If keys contains the keyword: \"all\", all results are saved.\n",
                "\n",
                "`path`\n",
                "* dir_name defaults to \"out\"\n",
                "\n",
                "* To save in the current working directory, pass dir_name=\".\"\n",
                "\n",
                "`file_prefix`\n",
                "\n",
                "* Prefix is appended to the saved files.\n"
            ]
        },
        {
            "cell_type": "code",
            "execution_count": 14,
            "metadata": {},
            "outputs": [
                {
                    "name": "stdout",
                    "output_type": "stream",
                    "text": [
                        "Saving results as csv to disk ...\n",
                        "  Saved: cellex_demo_out/mousebrain_vascular_cells.esmu.csv.gz\n",
                        "  Saved: cellex_demo_out/mousebrain_vascular_cells.essd.csv.gz\n",
                        "Finished saving results to cellex_demo_out\n"
                    ]
                }
            ],
            "source": [
                "eso.save_as_csv(path=dirOut, file_prefix=prefixData, verbose=True)"
            ]
        },
        {
            "cell_type": "markdown",
            "metadata": {},
            "source": [
                "# Plot results\n",
                "\n",
                "CELLEX provides a handful of plotting features for quick visualization of results. Below we plot the top 5 ES genes for each cell-type."
            ]
        },
        {
            "cell_type": "code",
            "execution_count": 15,
            "metadata": {},
            "outputs": [],
            "source": [
                "df_esmu = eso.results[\"esmu\"].copy()\n",
                "es_max_genes = [(df_esmu.nlargest(n=5, columns=[col]).index.values) for col in df_esmu]\n",
                "genes_to_plot = list(set(np.array(es_max_genes).flatten().tolist())) # set() removes duplicates"
            ]
        },
        {
            "cell_type": "code",
            "execution_count": 16,
            "metadata": {},
            "outputs": [
                {
                    "data": {
                        "text/html": [
                            "<div>\n",
                            "<style scoped>\n",
                            "    .dataframe tbody tr th:only-of-type {\n",
                            "        vertical-align: middle;\n",
                            "    }\n",
                            "\n",
                            "    .dataframe tbody tr th {\n",
                            "        vertical-align: top;\n",
                            "    }\n",
                            "\n",
                            "    .dataframe thead th {\n",
                            "        text-align: right;\n",
                            "    }\n",
                            "</style>\n",
                            "<table border=\"1\" class=\"dataframe\">\n",
                            "  <thead>\n",
                            "    <tr style=\"text-align: right;\">\n",
                            "      <th></th>\n",
                            "      <th>ABC</th>\n",
                            "      <th>PER1</th>\n",
                            "      <th>PER2</th>\n",
                            "      <th>PER3</th>\n",
                            "      <th>VECA</th>\n",
                            "      <th>VECC</th>\n",
                            "      <th>VECV</th>\n",
                            "      <th>VLMC1</th>\n",
                            "      <th>VLMC2</th>\n",
                            "      <th>VSMCA</th>\n",
                            "    </tr>\n",
                            "  </thead>\n",
                            "  <tbody>\n",
                            "    <tr>\n",
                            "      <th>PTPRB</th>\n",
                            "      <td>0.000000</td>\n",
                            "      <td>0.834405</td>\n",
                            "      <td>0.166289</td>\n",
                            "      <td>0.000000</td>\n",
                            "      <td>0.468753</td>\n",
                            "      <td>0.000000</td>\n",
                            "      <td>0.723654</td>\n",
                            "      <td>0.0</td>\n",
                            "      <td>0.000000</td>\n",
                            "      <td>0.000000</td>\n",
                            "    </tr>\n",
                            "    <tr>\n",
                            "      <th>RNF183</th>\n",
                            "      <td>0.000000</td>\n",
                            "      <td>0.000000</td>\n",
                            "      <td>0.750504</td>\n",
                            "      <td>0.000000</td>\n",
                            "      <td>0.000000</td>\n",
                            "      <td>0.989328</td>\n",
                            "      <td>0.000000</td>\n",
                            "      <td>0.0</td>\n",
                            "      <td>0.000000</td>\n",
                            "      <td>0.000000</td>\n",
                            "    </tr>\n",
                            "    <tr>\n",
                            "      <th>GBX1</th>\n",
                            "      <td>0.000000</td>\n",
                            "      <td>0.235875</td>\n",
                            "      <td>0.329709</td>\n",
                            "      <td>0.936908</td>\n",
                            "      <td>0.000000</td>\n",
                            "      <td>0.000000</td>\n",
                            "      <td>0.000000</td>\n",
                            "      <td>0.0</td>\n",
                            "      <td>0.000000</td>\n",
                            "      <td>0.000000</td>\n",
                            "    </tr>\n",
                            "    <tr>\n",
                            "      <th>WFIKKN2</th>\n",
                            "      <td>0.297543</td>\n",
                            "      <td>0.000000</td>\n",
                            "      <td>0.000000</td>\n",
                            "      <td>0.000000</td>\n",
                            "      <td>0.000000</td>\n",
                            "      <td>0.000000</td>\n",
                            "      <td>0.000000</td>\n",
                            "      <td>0.0</td>\n",
                            "      <td>0.975723</td>\n",
                            "      <td>0.000000</td>\n",
                            "    </tr>\n",
                            "    <tr>\n",
                            "      <th>CNN1</th>\n",
                            "      <td>0.000000</td>\n",
                            "      <td>0.000000</td>\n",
                            "      <td>0.000000</td>\n",
                            "      <td>0.002340</td>\n",
                            "      <td>0.000000</td>\n",
                            "      <td>0.000000</td>\n",
                            "      <td>0.000000</td>\n",
                            "      <td>0.0</td>\n",
                            "      <td>0.000000</td>\n",
                            "      <td>0.984298</td>\n",
                            "    </tr>\n",
                            "  </tbody>\n",
                            "</table>\n",
                            "</div>"
                        ],
                        "text/plain": [
                            "              ABC      PER1      PER2      PER3      VECA      VECC      VECV  \\\n",
                            "PTPRB    0.000000  0.834405  0.166289  0.000000  0.468753  0.000000  0.723654   \n",
                            "RNF183   0.000000  0.000000  0.750504  0.000000  0.000000  0.989328  0.000000   \n",
                            "GBX1     0.000000  0.235875  0.329709  0.936908  0.000000  0.000000  0.000000   \n",
                            "WFIKKN2  0.297543  0.000000  0.000000  0.000000  0.000000  0.000000  0.000000   \n",
                            "CNN1     0.000000  0.000000  0.000000  0.002340  0.000000  0.000000  0.000000   \n",
                            "\n",
                            "         VLMC1     VLMC2     VSMCA  \n",
                            "PTPRB      0.0  0.000000  0.000000  \n",
                            "RNF183     0.0  0.000000  0.000000  \n",
                            "GBX1       0.0  0.000000  0.000000  \n",
                            "WFIKKN2    0.0  0.975723  0.000000  \n",
                            "CNN1       0.0  0.000000  0.984298  "
                        ]
                    },
                    "execution_count": 16,
                    "metadata": {},
                    "output_type": "execute_result"
                }
            ],
            "source": [
                "df_esmu.loc[genes_to_plot].head()"
            ]
        },
        {
            "cell_type": "code",
            "execution_count": 17,
            "metadata": {},
            "outputs": [],
            "source": [
                "### Uncomment this step to see that all marker genes were originally in the raw data\n",
                "#all_genes = pd.DataFrame(index=rows)\n",
                "#cellex.utils.mapping.ens_mouse_to_ens_human(all_genes, drop_unmapped=True, verbose=True)\n",
                "#cellex.utils.mapping.ens_human_to_symbol(all_genes, drop_unmapped=True, verbose=True)\n",
                "#all_genes.loc[genes_to_plot]"
            ]
        },
        {
            "cell_type": "markdown",
            "metadata": {},
            "source": [
                "## `profile_gene` plot"
            ]
        },
        {
            "cell_type": "code",
            "execution_count": 18,
            "metadata": {},
            "outputs": [
                {
                    "data": {
                        "image/png": "[encoded data removed]",
                        "text/plain": [
                            "<Figure size 1500x500 with 1 Axes>"
                        ]
                    },
                    "metadata": {},
                    "output_type": "display_data"
                },
                {
                    "data": {
                        "text/plain": [
                            "<ggplot: (8788203319623)>"
                        ]
                    },
                    "execution_count": 18,
                    "metadata": {},
                    "output_type": "execute_result"
                }
            ],
            "source": [
                "p_esmu = cellex.plotting.gene_profile(genes=[\"RSPO3\"], weights=eso.results[\"esmu\"], stddev=eso.results[\"essd\"], highlight_n=3)\n",
                "p_esmu"
            ]
        },
        {
            "cell_type": "markdown",
            "metadata": {},
            "source": [
                "# `heatmap` plot\n",
                "N.B. It is advisable to select a limited number of genes and annotations. Heatmaps generated for the full dataset are tough on the eyes!"
            ]
        },
        {
            "cell_type": "code",
            "execution_count": 19,
            "metadata": {},
            "outputs": [
                {
                    "data": {
                        "image/png": "[encoded data removed]",
                        "text/plain": [
                            "<Figure size 1000x1000 with 1 Axes>"
                        ]
                    },
                    "metadata": {},
                    "output_type": "display_data"
                },
                {
                    "data": {
                        "text/plain": [
                            "<ggplot: (8788203320114)>"
                        ]
                    },
                    "execution_count": 19,
                    "metadata": {},
                    "output_type": "execute_result"
                }
            ],
            "source": [
                "p_heatmap = cellex.plotting.heatmap(df_esmu, genes=genes_to_plot)\n",
                "p_heatmap"
            ]
        },
        {
            "cell_type": "markdown",
            "metadata": {},
            "source": [
                "# `n_es_genes` plot"
            ]
        },
        {
            "cell_type": "code",
            "execution_count": 20,
            "metadata": {},
            "outputs": [
                {
                    "data": {
                        "image/png": "[encoded data removed]",
                        "text/plain": [
                            "<Figure size 100x640 with 1 Axes>"
                        ]
                    },
                    "metadata": {},
                    "output_type": "display_data"
                },
                {
                    "data": {
                        "text/plain": [
                            "<ggplot: (-9223363248651692000)>"
                        ]
                    },
                    "execution_count": 20,
                    "metadata": {},
                    "output_type": "execute_result"
                }
            ],
            "source": [
                "cellex.plotting.n_es_genes(df_esmu, annotation=metadata_class)"
            ]
        },
        {
            "cell_type": "markdown",
            "metadata": {},
            "source": [
                "# Save plots to disk"
            ]
        },
        {
            "cell_type": "code",
            "execution_count": 21,
            "metadata": {},
            "outputs": [
                {
                    "name": "stdout",
                    "output_type": "stream",
                    "text": [
                        "Saved: cellex_demo_out/mousebrain_vascular_cells.esmu.heatmap.pdf\n"
                    ]
                }
            ],
            "source": [
                "fp = \"{}/{}.esmu.heatmap.pdf\".format(dirOut, prefixData)\n",
                "cellex.plotting.save_as_pdf(p_heatmap, filename=fp, path=dirOut, dpi=600, verbose=True)"
            ]
        },
        {
            "cell_type": "code",
            "execution_count": 22,
            "metadata": {},
            "outputs": [],
            "source": [
                "# delete ESObject when the notebook is completed to release memory\n",
                "del eso"
            ]
        },
        {
            "cell_type": "code",
            "execution_count": null,
            "metadata": {},
            "outputs": [],
            "source": []
        }
    ],
    "metadata": {
        "kernelspec": {
            "display_name": "Python [conda env:cellex_testing]",
            "language": "python",
            "name": "conda-env-cellex_testing-py"
        },
        "language_info": {
            "codemirror_mode": {
                "name": "ipython",
                "version": 3
            },
            "file_extension": ".py",
            "mimetype": "text/x-python",
            "name": "python",
            "nbconvert_exporter": "python",
            "pygments_lexer": "ipython3",
            "version": "3.7.3"
        }
    },
    "nbformat": 4,
    "nbformat_minor": 2
}